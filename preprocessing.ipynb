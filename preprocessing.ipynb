{
 "cells": [
  {
   "cell_type": "code",
   "execution_count": 1,
   "id": "56dcb98d",
   "metadata": {},
   "outputs": [],
   "source": [
    "import pandas as pd\n",
    "from src.smiles_processor import DataFrameSmilesProcessor, save_processed_df\n",
    "from rdkit import RDLogger\n",
    "RDLogger.DisableLog('rdApp.error')\n",
    "RDLogger.DisableLog('rdApp.info')\n",
    "RDLogger.DisableLog('rdApp.warning')"
   ]
  },
  {
   "cell_type": "markdown",
   "id": "f255f9ff",
   "metadata": {},
   "source": [
    "### Dataset specific pre-processing"
   ]
  },
  {
   "cell_type": "code",
   "execution_count": 2,
   "id": "0eca137b",
   "metadata": {},
   "outputs": [],
   "source": [
    "stokes_2020 = pd.read_csv('data/raw/stokes_2020.csv')\n",
    "stokes_2020['target'] = 'Escherichia coli BW25113'\n",
    "stokes_2020['antimicrobial_activity'] = stokes_2020['Activity'].apply(lambda x: 1 if x == 'Active' else 0)\n",
    "stokes_2020.drop(columns=['Name', 'Activity'], inplace=True)\n",
    "\n",
    "swanson_2024 = pd.read_csv('data/raw/swanson_2024.csv')\n",
    "swanson_2024['target'] = 'Acinetobacter baumannii ATCC 17978'\n",
    "swanson_2024.rename(columns={'smiles': 'SMILES', 'antibiotic_activity': 'antimicrobial_activity'}, inplace=True)\n",
    "swanson_2024.drop(columns=['clogp_6.5', 'mol_weight', 'clogp'], inplace=True)\n",
    "\n",
    "swanson_2025 = pd.read_csv('data/raw/swanson_2025.csv')\n",
    "swanson_2025['target'] = 'Staphylococcus aureus RN4220'\n",
    "swanson_2025.rename(columns={'smiles': 'SMILES', 's_aureus_activity': 'antimicrobial_activity_continuous', 's_aureus_activity_true': 'antimicrobial_activity'}, inplace=True)\n",
    "\n",
    "liu_2023 = pd.read_csv('data/raw/liu_2023.csv')\n",
    "liu_2023['target'] = 'Acinetobacter baumannii ATCC 17978'\n",
    "mean_liu = liu_2023['Mean'].mean()\n",
    "std_liu = liu_2023['Mean'].std()\n",
    "threshold_liu = mean_liu - std_liu\n",
    "liu_2023['antimicrobial_activity'] = (liu_2023['Mean'] < threshold_liu).astype(int)\n",
    "liu_2023.drop(columns=['Name', 'Rep 1', 'Rep 2'], inplace=True)\n",
    "\n",
    "\n",
    "wong_2024 = pd.read_csv('data/raw/wong_2024.csv')\n",
    "wong_2024['antimicrobial_activity'] = 0\n",
    "wong_2024.loc[:511, 'antimicrobial_activity'] = 1\n",
    "wong_2024['target'] = 'Staphylococcus aureus RN4220'\n",
    "wong_2024.drop(columns=['R1_50uM', 'R2_50uM'], inplace=True)"
   ]
  },
  {
   "cell_type": "markdown",
   "id": "31274b4f",
   "metadata": {},
   "source": [
    "### SMILES preparation\n",
    "Basically, RDKit first runs sanitization (Mol From Smiles), checking if the molecule is feasible.\n",
    "Then, we run some standardization with `rdMolStandardize`, consisting of CleanUp (removing Hs, disconnecting metals, etc), Uncharging, and getting the (usually) most stable tautomer with TautomerEnumeration. (Ref: [RDKit](https://www.rdkit.org/docs/RDKit_Book.html#molecular-sanitization) and [a short post about it](https://www.blopig.com/blog/2022/05/molecular-standardization/))\n"
   ]
  },
  {
   "cell_type": "code",
   "execution_count": 5,
   "id": "166856f9",
   "metadata": {},
   "outputs": [
    {
     "name": "stderr",
     "output_type": "stream",
     "text": [
      "\u001b[32m2025-10-13 15:05:05.345\u001b[0m | \u001b[1mINFO    \u001b[0m | \u001b[36msrc.smiles_processor\u001b[0m:\u001b[36mprocess\u001b[0m:\u001b[36m18\u001b[0m - \u001b[1mStarting SMILES validation of 2335 entries.\u001b[0m\n"
     ]
    },
    {
     "name": "stderr",
     "output_type": "stream",
     "text": [
      "\u001b[32m2025-10-13 15:05:05.551\u001b[0m | \u001b[1mINFO    \u001b[0m | \u001b[36msrc.smiles_processor\u001b[0m:\u001b[36mprocess\u001b[0m:\u001b[36m23\u001b[0m - \u001b[1mNumber of invalid SMILES: 0\u001b[0m\n",
      "\u001b[32m2025-10-13 15:05:05.552\u001b[0m | \u001b[32m\u001b[1mSUCCESS \u001b[0m | \u001b[36msrc.smiles_processor\u001b[0m:\u001b[36mprocess\u001b[0m:\u001b[36m27\u001b[0m - \u001b[32m\u001b[1mSMILES validation completed. 2335 valid entries retained.\u001b[0m\n",
      "\u001b[32m2025-10-13 15:05:05.552\u001b[0m | \u001b[1mINFO    \u001b[0m | \u001b[36msrc.smiles_processor\u001b[0m:\u001b[36mprocess\u001b[0m:\u001b[36m30\u001b[0m - \u001b[1mStarting SMILES standardization of 2335 entries.\u001b[0m\n",
      "\u001b[32m2025-10-13 15:05:45.544\u001b[0m | \u001b[1mINFO    \u001b[0m | \u001b[36msrc.smiles_processor\u001b[0m:\u001b[36mprocess\u001b[0m:\u001b[36m44\u001b[0m - \u001b[1mNumber of invalid SMILES after standardization: 0\u001b[0m\n",
      "\u001b[32m2025-10-13 15:05:45.545\u001b[0m | \u001b[32m\u001b[1mSUCCESS \u001b[0m | \u001b[36msrc.smiles_processor\u001b[0m:\u001b[36mprocess\u001b[0m:\u001b[36m48\u001b[0m - \u001b[32m\u001b[1mSMILES standardization completed. 2335 valid entries retained.\u001b[0m\n",
      "\u001b[32m2025-10-13 15:05:45.545\u001b[0m | \u001b[1mINFO    \u001b[0m | \u001b[36msrc.smiles_processor\u001b[0m:\u001b[36mprocess\u001b[0m:\u001b[36m53\u001b[0m - \u001b[1mRemoving duplicates based on standardized SMILES.\u001b[0m\n",
      "\u001b[32m2025-10-13 15:05:45.546\u001b[0m | \u001b[32m\u001b[1mSUCCESS \u001b[0m | \u001b[36msrc.smiles_processor\u001b[0m:\u001b[36mprocess\u001b[0m:\u001b[36m55\u001b[0m - \u001b[32m\u001b[1mDuplicate removal completed. 2291 unique entries retained.\u001b[0m\n",
      "\u001b[32m2025-10-13 15:05:45.547\u001b[0m | \u001b[1mINFO    \u001b[0m | \u001b[36msrc.smiles_processor\u001b[0m:\u001b[36mprocess\u001b[0m:\u001b[36m18\u001b[0m - \u001b[1mStarting SMILES validation of 12900 entries.\u001b[0m\n",
      "\u001b[32m2025-10-13 15:05:46.839\u001b[0m | \u001b[1mINFO    \u001b[0m | \u001b[36msrc.smiles_processor\u001b[0m:\u001b[36mprocess\u001b[0m:\u001b[36m23\u001b[0m - \u001b[1mNumber of invalid SMILES: 0\u001b[0m\n",
      "\u001b[32m2025-10-13 15:05:46.840\u001b[0m | \u001b[32m\u001b[1mSUCCESS \u001b[0m | \u001b[36msrc.smiles_processor\u001b[0m:\u001b[36mprocess\u001b[0m:\u001b[36m27\u001b[0m - \u001b[32m\u001b[1mSMILES validation completed. 12900 valid entries retained.\u001b[0m\n",
      "\u001b[32m2025-10-13 15:05:46.841\u001b[0m | \u001b[1mINFO    \u001b[0m | \u001b[36msrc.smiles_processor\u001b[0m:\u001b[36mprocess\u001b[0m:\u001b[36m30\u001b[0m - \u001b[1mStarting SMILES standardization of 12900 entries.\u001b[0m\n",
      "\u001b[32m2025-10-13 15:09:29.420\u001b[0m | \u001b[1mINFO    \u001b[0m | \u001b[36msrc.smiles_processor\u001b[0m:\u001b[36mprocess\u001b[0m:\u001b[36m44\u001b[0m - \u001b[1mNumber of invalid SMILES after standardization: 0\u001b[0m\n",
      "\u001b[32m2025-10-13 15:09:29.422\u001b[0m | \u001b[32m\u001b[1mSUCCESS \u001b[0m | \u001b[36msrc.smiles_processor\u001b[0m:\u001b[36mprocess\u001b[0m:\u001b[36m48\u001b[0m - \u001b[32m\u001b[1mSMILES standardization completed. 12900 valid entries retained.\u001b[0m\n",
      "\u001b[32m2025-10-13 15:09:29.423\u001b[0m | \u001b[1mINFO    \u001b[0m | \u001b[36msrc.smiles_processor\u001b[0m:\u001b[36mprocess\u001b[0m:\u001b[36m53\u001b[0m - \u001b[1mRemoving duplicates based on standardized SMILES.\u001b[0m\n",
      "\u001b[32m2025-10-13 15:09:29.424\u001b[0m | \u001b[32m\u001b[1mSUCCESS \u001b[0m | \u001b[36msrc.smiles_processor\u001b[0m:\u001b[36mprocess\u001b[0m:\u001b[36m55\u001b[0m - \u001b[32m\u001b[1mDuplicate removal completed. 12900 unique entries retained.\u001b[0m\n",
      "\u001b[32m2025-10-13 15:09:29.425\u001b[0m | \u001b[1mINFO    \u001b[0m | \u001b[36msrc.smiles_processor\u001b[0m:\u001b[36mprocess\u001b[0m:\u001b[36m18\u001b[0m - \u001b[1mStarting SMILES validation of 10658 entries.\u001b[0m\n",
      "\u001b[32m2025-10-13 15:09:30.577\u001b[0m | \u001b[1mINFO    \u001b[0m | \u001b[36msrc.smiles_processor\u001b[0m:\u001b[36mprocess\u001b[0m:\u001b[36m23\u001b[0m - \u001b[1mNumber of invalid SMILES: 0\u001b[0m\n",
      "\u001b[32m2025-10-13 15:09:30.578\u001b[0m | \u001b[32m\u001b[1mSUCCESS \u001b[0m | \u001b[36msrc.smiles_processor\u001b[0m:\u001b[36mprocess\u001b[0m:\u001b[36m27\u001b[0m - \u001b[32m\u001b[1mSMILES validation completed. 10658 valid entries retained.\u001b[0m\n",
      "\u001b[32m2025-10-13 15:09:30.578\u001b[0m | \u001b[1mINFO    \u001b[0m | \u001b[36msrc.smiles_processor\u001b[0m:\u001b[36mprocess\u001b[0m:\u001b[36m30\u001b[0m - \u001b[1mStarting SMILES standardization of 10658 entries.\u001b[0m\n",
      "\u001b[32m2025-10-13 15:13:26.701\u001b[0m | \u001b[1mINFO    \u001b[0m | \u001b[36msrc.smiles_processor\u001b[0m:\u001b[36mprocess\u001b[0m:\u001b[36m44\u001b[0m - \u001b[1mNumber of invalid SMILES after standardization: 1\u001b[0m\n",
      "\u001b[32m2025-10-13 15:13:26.703\u001b[0m | \u001b[32m\u001b[1mSUCCESS \u001b[0m | \u001b[36msrc.smiles_processor\u001b[0m:\u001b[36mprocess\u001b[0m:\u001b[36m48\u001b[0m - \u001b[32m\u001b[1mSMILES standardization completed. 10657 valid entries retained.\u001b[0m\n",
      "\u001b[32m2025-10-13 15:13:26.703\u001b[0m | \u001b[1mINFO    \u001b[0m | \u001b[36msrc.smiles_processor\u001b[0m:\u001b[36mprocess\u001b[0m:\u001b[36m53\u001b[0m - \u001b[1mRemoving duplicates based on standardized SMILES.\u001b[0m\n",
      "\u001b[32m2025-10-13 15:13:26.705\u001b[0m | \u001b[32m\u001b[1mSUCCESS \u001b[0m | \u001b[36msrc.smiles_processor\u001b[0m:\u001b[36mprocess\u001b[0m:\u001b[36m55\u001b[0m - \u001b[32m\u001b[1mDuplicate removal completed. 10394 unique entries retained.\u001b[0m\n",
      "\u001b[32m2025-10-13 15:13:26.706\u001b[0m | \u001b[1mINFO    \u001b[0m | \u001b[36msrc.smiles_processor\u001b[0m:\u001b[36mprocess\u001b[0m:\u001b[36m18\u001b[0m - \u001b[1mStarting SMILES validation of 7684 entries.\u001b[0m\n",
      "\u001b[32m2025-10-13 15:13:27.469\u001b[0m | \u001b[1mINFO    \u001b[0m | \u001b[36msrc.smiles_processor\u001b[0m:\u001b[36mprocess\u001b[0m:\u001b[36m23\u001b[0m - \u001b[1mNumber of invalid SMILES: 0\u001b[0m\n",
      "\u001b[32m2025-10-13 15:13:27.469\u001b[0m | \u001b[32m\u001b[1mSUCCESS \u001b[0m | \u001b[36msrc.smiles_processor\u001b[0m:\u001b[36mprocess\u001b[0m:\u001b[36m27\u001b[0m - \u001b[32m\u001b[1mSMILES validation completed. 7684 valid entries retained.\u001b[0m\n",
      "\u001b[32m2025-10-13 15:13:27.470\u001b[0m | \u001b[1mINFO    \u001b[0m | \u001b[36msrc.smiles_processor\u001b[0m:\u001b[36mprocess\u001b[0m:\u001b[36m30\u001b[0m - \u001b[1mStarting SMILES standardization of 7684 entries.\u001b[0m\n",
      "\u001b[32m2025-10-13 15:15:12.547\u001b[0m | \u001b[1mINFO    \u001b[0m | \u001b[36msrc.smiles_processor\u001b[0m:\u001b[36mprocess\u001b[0m:\u001b[36m44\u001b[0m - \u001b[1mNumber of invalid SMILES after standardization: 0\u001b[0m\n",
      "\u001b[32m2025-10-13 15:15:12.548\u001b[0m | \u001b[32m\u001b[1mSUCCESS \u001b[0m | \u001b[36msrc.smiles_processor\u001b[0m:\u001b[36mprocess\u001b[0m:\u001b[36m48\u001b[0m - \u001b[32m\u001b[1mSMILES standardization completed. 7684 valid entries retained.\u001b[0m\n",
      "\u001b[32m2025-10-13 15:15:12.549\u001b[0m | \u001b[1mINFO    \u001b[0m | \u001b[36msrc.smiles_processor\u001b[0m:\u001b[36mprocess\u001b[0m:\u001b[36m53\u001b[0m - \u001b[1mRemoving duplicates based on standardized SMILES.\u001b[0m\n",
      "\u001b[32m2025-10-13 15:15:12.550\u001b[0m | \u001b[32m\u001b[1mSUCCESS \u001b[0m | \u001b[36msrc.smiles_processor\u001b[0m:\u001b[36mprocess\u001b[0m:\u001b[36m55\u001b[0m - \u001b[32m\u001b[1mDuplicate removal completed. 7574 unique entries retained.\u001b[0m\n",
      "\u001b[32m2025-10-13 15:15:12.553\u001b[0m | \u001b[1mINFO    \u001b[0m | \u001b[36msrc.smiles_processor\u001b[0m:\u001b[36mprocess\u001b[0m:\u001b[36m18\u001b[0m - \u001b[1mStarting SMILES validation of 39312 entries.\u001b[0m\n",
      "\u001b[32m2025-10-13 15:15:17.854\u001b[0m | \u001b[1mINFO    \u001b[0m | \u001b[36msrc.smiles_processor\u001b[0m:\u001b[36mprocess\u001b[0m:\u001b[36m23\u001b[0m - \u001b[1mNumber of invalid SMILES: 0\u001b[0m\n",
      "\u001b[32m2025-10-13 15:15:17.856\u001b[0m | \u001b[32m\u001b[1mSUCCESS \u001b[0m | \u001b[36msrc.smiles_processor\u001b[0m:\u001b[36mprocess\u001b[0m:\u001b[36m27\u001b[0m - \u001b[32m\u001b[1mSMILES validation completed. 39312 valid entries retained.\u001b[0m\n",
      "\u001b[32m2025-10-13 15:15:17.857\u001b[0m | \u001b[1mINFO    \u001b[0m | \u001b[36msrc.smiles_processor\u001b[0m:\u001b[36mprocess\u001b[0m:\u001b[36m30\u001b[0m - \u001b[1mStarting SMILES standardization of 39312 entries.\u001b[0m\n",
      "\u001b[32m2025-10-13 15:21:13.085\u001b[0m | \u001b[1mINFO    \u001b[0m | \u001b[36msrc.smiles_processor\u001b[0m:\u001b[36mprocess\u001b[0m:\u001b[36m44\u001b[0m - \u001b[1mNumber of invalid SMILES after standardization: 0\u001b[0m\n",
      "\u001b[32m2025-10-13 15:21:13.091\u001b[0m | \u001b[32m\u001b[1mSUCCESS \u001b[0m | \u001b[36msrc.smiles_processor\u001b[0m:\u001b[36mprocess\u001b[0m:\u001b[36m48\u001b[0m - \u001b[32m\u001b[1mSMILES standardization completed. 39312 valid entries retained.\u001b[0m\n",
      "\u001b[32m2025-10-13 15:21:13.092\u001b[0m | \u001b[1mINFO    \u001b[0m | \u001b[36msrc.smiles_processor\u001b[0m:\u001b[36mprocess\u001b[0m:\u001b[36m53\u001b[0m - \u001b[1mRemoving duplicates based on standardized SMILES.\u001b[0m\n",
      "\u001b[32m2025-10-13 15:21:13.097\u001b[0m | \u001b[32m\u001b[1mSUCCESS \u001b[0m | \u001b[36msrc.smiles_processor\u001b[0m:\u001b[36mprocess\u001b[0m:\u001b[36m55\u001b[0m - \u001b[32m\u001b[1mDuplicate removal completed. 38747 unique entries retained.\u001b[0m\n"
     ]
    }
   ],
   "source": [
    "processor = DataFrameSmilesProcessor()\n",
    "stokes_2020 = processor.process(stokes_2020, 'SMILES')\n",
    "swanson_2024 = processor.process(swanson_2024, 'SMILES')\n",
    "swanson_2025 = processor.process(swanson_2025, 'SMILES')\n",
    "liu_2023 = processor.process(liu_2023, 'SMILES')\n",
    "wong_2024 = processor.process(wong_2024, 'SMILES')"
   ]
  },
  {
   "cell_type": "code",
   "execution_count": 7,
   "id": "35676972",
   "metadata": {},
   "outputs": [],
   "source": [
    "for df, name in zip([stokes_2020, swanson_2024, swanson_2025, liu_2023, wong_2024],\n",
    "                    ['stokes_2020', 'swanson_2024', 'swanson_2025', 'liu_2023', 'wong_2024']):\n",
    "    save_processed_df(df, f\"{name}_processed.csv\")"
   ]
  }
 ],
 "metadata": {
  "kernelspec": {
   "display_name": "antimicrobial",
   "language": "python",
   "name": "python3"
  },
  "language_info": {
   "codemirror_mode": {
    "name": "ipython",
    "version": 3
   },
   "file_extension": ".py",
   "mimetype": "text/x-python",
   "name": "python",
   "nbconvert_exporter": "python",
   "pygments_lexer": "ipython3",
   "version": "3.10.18"
  }
 },
 "nbformat": 4,
 "nbformat_minor": 5
}
