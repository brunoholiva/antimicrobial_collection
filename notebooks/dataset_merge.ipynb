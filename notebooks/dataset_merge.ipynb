{
 "cells": [
  {
   "cell_type": "markdown",
   "id": "674c7f8a",
   "metadata": {},
   "source": [
    "###  Merging data\n",
    "In this notebook, my goal is to merge datasets based on the organism. \n",
    "My rationale is basically: once a hit, always a hit. \n",
    "\n",
    "However, for conflicting entries (i.e. identical SMILES with divergent values), this is a bit overly optimistic. So the value will prevail if:\n",
    "- It comes from a dataset that uses absolute cut-offs instead of standard deviations.\n",
    "If this can't be done, then the value from the largest dataset will be chosen instead."
   ]
  },
  {
   "cell_type": "code",
   "execution_count": 1,
   "id": "a6b275bd",
   "metadata": {},
   "outputs": [],
   "source": [
    "import pandas as pd\n",
    "import os\n",
    "import sys\n",
    "import os\n",
    "sys.path.append(os.path.abspath(os.path.join(os.getcwd(), '..')))\n",
    "from src.utils.dataset_utils import merge_and_deduplicate, rule"
   ]
  },
  {
   "cell_type": "markdown",
   "id": "05d98492",
   "metadata": {},
   "source": [
    "### _E. coli_"
   ]
  },
  {
   "cell_type": "code",
   "execution_count": 2,
   "id": "dcf27197",
   "metadata": {},
   "outputs": [],
   "source": [
    "stokes = pd.read_csv('../data/processed/stokes_2020_processed.csv')\n",
    "co_add_ecoli = pd.read_csv('../data/processed/co_add_Escherichia_coli_processed.csv')"
   ]
  },
  {
   "cell_type": "code",
   "execution_count": 3,
   "id": "60e2378a",
   "metadata": {},
   "outputs": [
    {
     "name": "stderr",
     "output_type": "stream",
     "text": [
      "\u001b[32m2025-10-16 08:40:27.534\u001b[0m | \u001b[32m\u001b[1mSUCCESS \u001b[0m | \u001b[36msrc.utils.dataset_utils\u001b[0m:\u001b[36mmerge_and_deduplicate\u001b[0m:\u001b[36m34\u001b[0m - \u001b[32m\u001b[1mMerged dataset has 78158 entries; after deduplication, 78115 unique entries remain. (Removed 43 duplicates.)\u001b[0m\n"
     ]
    },
    {
     "data": {
      "text/plain": [
       "(78115, (78115, 4))"
      ]
     },
     "execution_count": 3,
     "metadata": {},
     "output_type": "execute_result"
    }
   ],
   "source": [
    "ecoli_dataset = merge_and_deduplicate([stokes, co_add_ecoli], 'standardized_smiles', rule=rule)\n",
    "ecoli_dataset.standardized_smiles.nunique(), ecoli_dataset.shape"
   ]
  },
  {
   "cell_type": "markdown",
   "id": "133d7b83",
   "metadata": {},
   "source": [
    "### _A. baumannii_"
   ]
  },
  {
   "cell_type": "code",
   "execution_count": 4,
   "id": "d66048b1",
   "metadata": {},
   "outputs": [],
   "source": [
    "swanson_2024 = pd.read_csv('../data/processed/swanson_2024_processed.csv')\n",
    "liu_2023 = pd.read_csv('../data/processed/liu_2023_processed.csv')\n",
    "co_add_baumannii = pd.read_csv('../data/processed/co_add_Acinetobacter_baumannii_processed.csv')\n"
   ]
  },
  {
   "cell_type": "code",
   "execution_count": null,
   "id": "c1d81651",
   "metadata": {},
   "outputs": [],
   "source": [
    "a_baumannii_dataset = merge_and_deduplicate([swanson_2024, liu_2023, co_add_baumannii], 'standardized_smiles', rule=rule)"
   ]
  },
  {
   "cell_type": "markdown",
   "id": "13e13c69",
   "metadata": {},
   "source": [
    "### _S. aureus_"
   ]
  },
  {
   "cell_type": "code",
   "execution_count": null,
   "id": "bbb12433",
   "metadata": {},
   "outputs": [],
   "source": [
    "swanson_2025 = pd.read_csv('../data/processed/swanson_2025_processed.csv')\n",
    "wong_2024 = pd.read_csv('../data/processed/wong_2024_processed.csv')\n",
    "co_add_s_aureus = pd.read_csv('../data/processed/co_add_Staphylococcus_aureus_processed.csv')"
   ]
  },
  {
   "cell_type": "code",
   "execution_count": null,
   "id": "6d6b5bbf",
   "metadata": {},
   "outputs": [],
   "source": [
    "s_aureus_dataset = merge_and_deduplicate([swanson_2025, wong_2024, co_add_s_aureus], 'standardized_smiles', rule=rule)"
   ]
  },
  {
   "cell_type": "code",
   "execution_count": null,
   "id": "82a6ae4d",
   "metadata": {},
   "outputs": [],
   "source": [
    "import matplotlib.pyplot as plt\n",
    "\n",
    "for name, df in zip(\n",
    "    [\"E. coli\", \"A. baumannii\", \"S. aureus\"],\n",
    "    [ecoli_dataset, a_baumannii_dataset, s_aureus_dataset]\n",
    "):\n",
    "    counts = df['antimicrobial_activity'].value_counts().sort_index()\n",
    "    plt.bar(['Inactive', 'Active'], counts)\n",
    "    plt.title(f\"{name} - Activity Distribution\")\n",
    "    plt.ylabel(\"Count\")\n",
    "    plt.show()"
   ]
  }
 ],
 "metadata": {
  "kernelspec": {
   "display_name": "antimicrobial",
   "language": "python",
   "name": "python3"
  },
  "language_info": {
   "codemirror_mode": {
    "name": "ipython",
    "version": 3
   },
   "file_extension": ".py",
   "mimetype": "text/x-python",
   "name": "python",
   "nbconvert_exporter": "python",
   "pygments_lexer": "ipython3",
   "version": "3.10.18"
  }
 },
 "nbformat": 4,
 "nbformat_minor": 5
}
